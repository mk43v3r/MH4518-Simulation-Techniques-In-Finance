{
 "cells": [
  {
   "cell_type": "code",
   "execution_count": 15,
   "metadata": {},
   "outputs": [],
   "source": [
    "import numpy as np\n",
    "import matplotlib.pyplot as plt\n",
    "import math\n",
    "\n",
    "# Parameters for GBM\n",
    "dt = 1/252\n",
    "S_0 = 11510.46 #Price of SMI at 6 Aug 2024\n",
    "inital_price = 11130.44\n",
    "r = 0.01\n",
    "Nsim = 1000\n",
    "N = 258 #Number of business days from 6 Aug 2024 to 18 Aug 2025\n",
    "sigma = 0.136"
   ]
  },
  {
   "cell_type": "code",
   "execution_count": 16,
   "metadata": {},
   "outputs": [],
   "source": [
    "def GBM(sigma, N,  S_0 = 11130.44, r = 0.01 , Nsim = 10000):\n",
    "    # Create a 2D array to store the stock prices for each simulation\n",
    "    S = np.zeros([Nsim,N])\n",
    "    S[:,0] = S_0\n",
    "\n",
    "    for i in range(Nsim):\n",
    "        for j in range(N-1):\n",
    "            Z = np.random.normal(0, 1)      \n",
    "            # Calculate the stock price at time t+1 using the Geometric Brownian Motion model with risk-free interet rate\n",
    "            S[i,j+1] = S[i,j] * np.exp( (r - 0.5 * sigma ** 2) * dt + sigma * Z * np.sqrt(dt) )\n",
    "    return S\n",
    "\n",
    "def payoff(price_path, barrier_price = 6566.9596, initial_price = 11130.44):\n",
    "    barrier_hit = min(price_path) <= barrier_price\n",
    "    asset_final_price = price_path[-1]\n",
    "\n",
    "    if barrier_hit:\n",
    "        return 1000 * (asset_final_price / initial_price)\n",
    "    else:\n",
    "        return 1000 * max(1, 1 + 1.25 * (asset_final_price / initial_price - 1))\n",
    "\n",
    "# Payoff for a given set of simulations\n",
    "def payoff_sim(S, barrier_price = 6566.9596, initial_price = 11130.44):\n",
    "    num_simulations = S.shape[0]\n",
    "    payoff_values = np.zeros(num_simulations)\n",
    "    for i in range(num_simulations):\n",
    "        # Need to discount the payoff to present value\n",
    "        payoff_values[i] = math.exp(-r*N*dt) * payoff(S[i,:], barrier_price, initial_price)\n",
    "    return payoff_values\n"
   ]
  },
  {
   "cell_type": "code",
   "execution_count": 31,
   "metadata": {},
   "outputs": [
    {
     "name": "stdout",
     "output_type": "stream",
     "text": [
      "-0.021996151085684246\n"
     ]
    }
   ],
   "source": [
    "'''\n",
    "# T8.2.f ====\n",
    "N1 = 100\n",
    "SimHSIPre = SimGBMExact(N1, St, v, sigma, dt, Tminust)\n",
    "SimNotesPre = exp(-r * Tminust) * apply(SimHSIPre, 1, NotePayoff)\n",
    "c = -cov(SimNotesPre, SimHSIPre[, ncol(SimHSIPre)])/\n",
    "  (St^2 * exp(2 * r * Tminust) * (exp(sigma^2 * Tminust) - 1))\n",
    "SimHSICV = SimGBMExact(Nsim, St, v, sigma, dt, Tminust)\n",
    "SimNotesCV = exp(-r * Tminust) * apply(SimHSICV, 1, NotePayoff) +\n",
    "  c * (SimHSICV[, ncol(SimHSICV)] - St * exp(r * Tminust))\n",
    "\n",
    "NoteCVValue = mean(SimNotesCV); NoteCVValueVar = var(SimNotesCV) / Nsim\n",
    "'''\n",
    "\n",
    "first_N = 100\n",
    "S_first_N = GBM(sigma, first_N)\n",
    "derivative_price_first_N = payoff_sim(S_first_N)\n",
    "\n",
    "c = -np.cov(derivative_price_first_N, S_first_N[:,-1])[0][1] / (S_0 ** 2 * np.exp(2 * r * N * dt) * (np.exp(sigma ** 2 * N * dt) - 1))\n",
    "\n",
    "print(c)"
   ]
  },
  {
   "cell_type": "code",
   "execution_count": null,
   "metadata": {},
   "outputs": [
    {
     "name": "stdout",
     "output_type": "stream",
     "text": [
      "1043.9993535529202\n"
     ]
    }
   ],
   "source": [
    "N2  = 1000\n",
    "S_N2 = GBM(sigma, N2, Nsim = actual_sim_N)\n",
    "derivative_price_N2= payoff_sim(S_N2)\n",
    "simDerivateCV = derivative_price_N2 + c * (S_N2[:,-1] - [S_0 * np.exp(r * N * dt) for _ in range(actual_sim_N)] )\n",
    "print(simDerivateCV.mean())"
   ]
  }
 ],
 "metadata": {
  "kernelspec": {
   "display_name": "Python 3",
   "language": "python",
   "name": "python3"
  },
  "language_info": {
   "codemirror_mode": {
    "name": "ipython",
    "version": 3
   },
   "file_extension": ".py",
   "mimetype": "text/x-python",
   "name": "python",
   "nbconvert_exporter": "python",
   "pygments_lexer": "ipython3",
   "version": "3.10.0"
  }
 },
 "nbformat": 4,
 "nbformat_minor": 2
}
