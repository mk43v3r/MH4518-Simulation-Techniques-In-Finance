{
 "cells": [
  {
   "cell_type": "code",
   "execution_count": 39,
   "metadata": {},
   "outputs": [],
   "source": [
    "input_file_path = 'SMI_Historical_Data(10Nov).csv'\n",
    "output_file_path = 'SMI_log_returns(10Nov).csv'"
   ]
  },
  {
   "cell_type": "code",
   "execution_count": 40,
   "metadata": {},
   "outputs": [
    {
     "name": "stdout",
     "output_type": "stream",
     "text": [
      "        Date      Open      High       Low    Vol. Change %     Close\n",
      "0 2024-11-08  11918.78  11932.08  11775.75  24.89M   -1.00%  11797.72\n",
      "1 2024-11-07  11863.67  11990.69  11855.47  29.30M    0.59%  11917.00\n",
      "2 2024-11-06  11997.42  12122.20  11821.48  37.28M   -0.16%  11847.29\n",
      "3 2024-11-05  11920.49  11924.70  11839.35  23.35M   -0.26%  11866.01\n",
      "4 2024-11-04  11946.40  11983.26  11896.94  16.63M   -0.59%  11896.94\n"
     ]
    }
   ],
   "source": [
    "import pandas as pd\n",
    "import numpy as np\n",
    "import matplotlib.pyplot as plt\n",
    "import math\n",
    "\n",
    "# Function to process CSV files\n",
    "def process_csv(file_path):\n",
    "    try:\n",
    "        df = pd.read_csv(file_path)\n",
    "        # Perform some processing on the DataFrame\n",
    "        df.fillna(0, inplace=True)  # Example: Fill NaN values with 0\n",
    "        return df\n",
    "    except Exception as e:\n",
    "        print(f\"Error processing {file_path}: {e}\")\n",
    "        return None\n",
    "\n",
    "# Example usage\n",
    "processed_df = process_csv(input_file_path)\n",
    "\n",
    "# Remove ,'s and convert to numeric\n",
    "def to_numeric_remove_commas(series):\n",
    "    return pd.to_numeric(series.str.replace(',', ''))\n",
    "\n",
    "processed_df['Date'] = pd.to_datetime(processed_df['Date'])\n",
    "\n",
    "# Converting each column data type\n",
    "if 'Price' in processed_df.columns:\n",
    "    processed_df['Close'] = to_numeric_remove_commas(processed_df['Price'])\n",
    "    del processed_df['Price']\n",
    "else:\n",
    "    processed_df['Close'] = to_numeric_remove_commas(processed_df['Close'])\n",
    "\n",
    "processed_df['Open'] = to_numeric_remove_commas(processed_df['Open'])\n",
    "processed_df['High'] = to_numeric_remove_commas(processed_df['High'])\n",
    "processed_df['Low'] = to_numeric_remove_commas(processed_df['Low'])\n",
    "\n",
    "print(processed_df.head())"
   ]
  },
  {
   "cell_type": "code",
   "execution_count": 41,
   "metadata": {},
   "outputs": [
    {
     "name": "stdout",
     "output_type": "stream",
     "text": [
      "new_df\n",
      "        Date     Close  log_returns  log_prices\n",
      "0 2024-11-08  11797.72          NaN    9.375662\n",
      "1 2024-11-07  11917.00     0.010060    9.385721\n",
      "2 2024-11-06  11847.29    -0.005867    9.379854\n",
      "3 2024-11-05  11866.01     0.001579    9.381433\n",
      "4 2024-11-04  11896.94     0.002603    9.384037\n",
      "\n",
      "closing_prices\n",
      "0    11797.72\n",
      "1    11917.00\n",
      "2    11847.29\n",
      "3    11866.01\n",
      "4    11896.94\n",
      "Name: Close, dtype: float64\n"
     ]
    }
   ],
   "source": [
    "new_df = processed_df[['Date', 'Close']].copy()\n",
    "closing_prices = new_df['Close']\n",
    "\n",
    "log_returns = np.log(closing_prices / closing_prices.shift(1))\n",
    "new_df['log_returns'] = log_returns\n",
    "new_df['log_prices'] = np.log(closing_prices)\n",
    "\n",
    "print(\"new_df\")\n",
    "print(new_df.head())\n",
    "print()\n",
    "\n",
    "print(\"closing_prices\")\n",
    "print(closing_prices.head())"
   ]
  },
  {
   "cell_type": "code",
   "execution_count": null,
   "metadata": {},
   "outputs": [],
   "source": [
    "# Get new dataframe into a csv file\n",
    "new_df.to_csv(output_file_path, index=False)"
   ]
  }
 ],
 "metadata": {
  "kernelspec": {
   "display_name": ".venv",
   "language": "python",
   "name": "python3"
  },
  "language_info": {
   "codemirror_mode": {
    "name": "ipython",
    "version": 3
   },
   "file_extension": ".py",
   "mimetype": "text/x-python",
   "name": "python",
   "nbconvert_exporter": "python",
   "pygments_lexer": "ipython3",
   "version": "3.11.2"
  }
 },
 "nbformat": 4,
 "nbformat_minor": 2
}
