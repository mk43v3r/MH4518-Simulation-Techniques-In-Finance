{
 "cells": [
  {
   "cell_type": "code",
   "execution_count": 1,
   "metadata": {},
   "outputs": [],
   "source": [
    "input_file_path = 'SMI_Historical_Data(10Nov).csv'\n",
    "output_file_path = 'SMI_log_returns(10Nov).csv'"
   ]
  },
  {
   "cell_type": "code",
   "execution_count": 2,
   "metadata": {},
   "outputs": [
    {
     "name": "stdout",
     "output_type": "stream",
     "text": [
      "          Date      Open      High       Low    Vol. Change %     Close\n",
      "721 2022-01-03  12934.42  12997.15  12905.53  30.07M    0.49%  12939.17\n",
      "720 2022-01-04  12977.59  12979.76  12884.48  38.72M   -0.30%  12900.97\n",
      "719 2022-01-05  12868.00  12906.37  12825.90  33.32M    0.04%  12906.37\n",
      "718 2022-01-06  12754.51  12816.12  12728.44  40.33M   -0.88%  12792.28\n",
      "717 2022-01-07  12754.41  12821.44  12715.49  42.71M    0.04%  12797.94\n"
     ]
    }
   ],
   "source": [
    "import pandas as pd\n",
    "import numpy as np\n",
    "import matplotlib.pyplot as plt\n",
    "import math\n",
    "\n",
    "# Function to process CSV files\n",
    "def process_csv(file_path):\n",
    "    try:\n",
    "        df = pd.read_csv(file_path)\n",
    "        # Perform some processing on the DataFrame\n",
    "        df.fillna(0, inplace=True)  # Example: Fill NaN values with 0\n",
    "        return df\n",
    "    except Exception as e:\n",
    "        print(f\"Error processing {file_path}: {e}\")\n",
    "        return None\n",
    "\n",
    "# Example usage\n",
    "processed_df = process_csv(input_file_path)\n",
    "\n",
    "# Remove ,'s and convert to numeric\n",
    "def to_numeric_remove_commas(series):\n",
    "    return pd.to_numeric(series.str.replace(',', ''))\n",
    "\n",
    "processed_df['Date'] = pd.to_datetime(processed_df['Date'])\n",
    "\n",
    "# Converting each column data type\n",
    "if 'Price' in processed_df.columns:\n",
    "    processed_df['Close'] = to_numeric_remove_commas(processed_df['Price'])\n",
    "    del processed_df['Price']\n",
    "else:\n",
    "    processed_df['Close'] = to_numeric_remove_commas(processed_df['Close'])\n",
    "\n",
    "processed_df['Open'] = to_numeric_remove_commas(processed_df['Open'])\n",
    "processed_df['High'] = to_numeric_remove_commas(processed_df['High'])\n",
    "processed_df['Low'] = to_numeric_remove_commas(processed_df['Low'])\n",
    "\n",
    "processed_df = processed_df.sort_values(by=[\"Date\"], ascending=True)\n",
    "\n",
    "print(processed_df.head())"
   ]
  },
  {
   "cell_type": "code",
   "execution_count": 3,
   "metadata": {},
   "outputs": [
    {
     "name": "stdout",
     "output_type": "stream",
     "text": [
      "new_df\n",
      "          Date     Close  log_returns  log_prices\n",
      "721 2022-01-03  12939.17          NaN    9.468014\n",
      "720 2022-01-04  12900.97    -0.002957    9.465058\n",
      "719 2022-01-05  12906.37     0.000418    9.465476\n",
      "718 2022-01-06  12792.28    -0.008879    9.456597\n",
      "717 2022-01-07  12797.94     0.000442    9.457039\n",
      "\n",
      "closing_prices\n",
      "721    12939.17\n",
      "720    12900.97\n",
      "719    12906.37\n",
      "718    12792.28\n",
      "717    12797.94\n",
      "Name: Close, dtype: float64\n"
     ]
    }
   ],
   "source": [
    "new_df = processed_df[['Date', 'Close']].copy()\n",
    "closing_prices = new_df['Close']\n",
    "\n",
    "log_returns = np.log(closing_prices / closing_prices.shift(1))\n",
    "new_df['log_returns'] = log_returns\n",
    "new_df['log_prices'] = np.log(closing_prices)\n",
    "\n",
    "print(\"new_df\")\n",
    "print(new_df.head())\n",
    "print()\n",
    "\n",
    "print(\"closing_prices\")\n",
    "print(closing_prices.head())"
   ]
  },
  {
   "cell_type": "code",
   "execution_count": 4,
   "metadata": {},
   "outputs": [],
   "source": [
    "# Get new dataframe into a csv file\n",
    "new_df.to_csv(output_file_path, index=False)"
   ]
  }
 ],
 "metadata": {
  "kernelspec": {
   "display_name": ".venv",
   "language": "python",
   "name": "python3"
  },
  "language_info": {
   "codemirror_mode": {
    "name": "ipython",
    "version": 3
   },
   "file_extension": ".py",
   "mimetype": "text/x-python",
   "name": "python",
   "nbconvert_exporter": "python",
   "pygments_lexer": "ipython3",
   "version": "3.11.2"
  }
 },
 "nbformat": 4,
 "nbformat_minor": 2
}
